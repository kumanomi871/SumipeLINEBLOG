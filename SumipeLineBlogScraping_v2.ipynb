{
  "nbformat": 4,
  "nbformat_minor": 0,
  "metadata": {
    "colab": {
      "provenance": [],
      "authorship_tag": "ABX9TyOTO1bGGUzgJD3PxRxN0WkG",
      "include_colab_link": true
    },
    "kernelspec": {
      "name": "python3",
      "display_name": "Python 3"
    },
    "language_info": {
      "name": "python"
    }
  },
  "cells": [
    {
      "cell_type": "markdown",
      "metadata": {
        "id": "view-in-github",
        "colab_type": "text"
      },
      "source": [
        "<a href=\"https://colab.research.google.com/github/kumanomi871/sumipe/blob/main/SumipeLineBlogScraping_v2.ipynb\" target=\"_parent\"><img src=\"https://colab.research.google.com/assets/colab-badge.svg\" alt=\"Open In Colab\"/></a>"
      ]
    },
    {
      "cell_type": "code",
      "execution_count": null,
      "metadata": {
        "colab": {
          "base_uri": "https://localhost:8080/",
          "height": 423
        },
        "id": "lUeu5wZP33qo",
        "outputId": "2d9db664-de50-4d2a-c256-fd324e8cc3cf"
      },
      "outputs": [
        {
          "output_type": "stream",
          "name": "stdout",
          "text": [
            "Drive already mounted at ./gdrive; to attempt to forcibly remount, call drive.mount(\"./gdrive\", force_remount=True).\n",
            "1\n",
            "./gdrive/My Drive/Uesaka Sumire/lineblogimages/1_1.jpg\n"
          ]
        },
        {
          "output_type": "error",
          "ename": "KeyboardInterrupt",
          "evalue": "ignored",
          "traceback": [
            "\u001b[0;31m---------------------------------------------------------------------------\u001b[0m",
            "\u001b[0;31mKeyboardInterrupt\u001b[0m                         Traceback (most recent call last)",
            "\u001b[0;32m<ipython-input-2-625c09d4cbb1>\u001b[0m in \u001b[0;36m<module>\u001b[0;34m\u001b[0m\n\u001b[1;32m     57\u001b[0m   \u001b[0mprint\u001b[0m\u001b[0;34m(\u001b[0m\u001b[0mimage_path\u001b[0m\u001b[0;34m)\u001b[0m\u001b[0;34m\u001b[0m\u001b[0;34m\u001b[0m\u001b[0m\n\u001b[1;32m     58\u001b[0m \u001b[0;34m\u001b[0m\u001b[0m\n\u001b[0;32m---> 59\u001b[0;31m   \u001b[0mdownload_image\u001b[0m\u001b[0;34m(\u001b[0m\u001b[0murl\u001b[0m\u001b[0;34m=\u001b[0m\u001b[0murl\u001b[0m\u001b[0;34m,\u001b[0m \u001b[0mfile_path\u001b[0m\u001b[0;34m=\u001b[0m\u001b[0mimage_path\u001b[0m\u001b[0;34m)\u001b[0m\u001b[0;34m\u001b[0m\u001b[0;34m\u001b[0m\u001b[0m\n\u001b[0m\u001b[1;32m     60\u001b[0m \u001b[0;31m#2ページから300ページまでの画像保存\u001b[0m\u001b[0;34m\u001b[0m\u001b[0;34m\u001b[0m\u001b[0;34m\u001b[0m\u001b[0m\n\u001b[1;32m     61\u001b[0m \u001b[0;32mfor\u001b[0m \u001b[0mindex\u001b[0m\u001b[0;34m,\u001b[0m \u001b[0mn_page\u001b[0m \u001b[0;32min\u001b[0m \u001b[0menumerate\u001b[0m\u001b[0;34m(\u001b[0m\u001b[0mrange\u001b[0m\u001b[0;34m(\u001b[0m\u001b[0;36m2\u001b[0m\u001b[0;34m,\u001b[0m\u001b[0;36m301\u001b[0m\u001b[0;34m,\u001b[0m\u001b[0;36m1\u001b[0m\u001b[0;34m)\u001b[0m\u001b[0;34m,\u001b[0m\u001b[0;36m1\u001b[0m\u001b[0;34m)\u001b[0m\u001b[0;34m:\u001b[0m\u001b[0;34m\u001b[0m\u001b[0;34m\u001b[0m\u001b[0m\n",
            "\u001b[0;32m<ipython-input-2-625c09d4cbb1>\u001b[0m in \u001b[0;36mdownload_image\u001b[0;34m(url, file_path)\u001b[0m\n\u001b[1;32m     19\u001b[0m \u001b[0;34m\u001b[0m\u001b[0m\n\u001b[1;32m     20\u001b[0m   \u001b[0;32mif\u001b[0m \u001b[0mr\u001b[0m\u001b[0;34m.\u001b[0m\u001b[0mstatus_code\u001b[0m \u001b[0;34m==\u001b[0m \u001b[0;36m200\u001b[0m\u001b[0;34m:\u001b[0m\u001b[0;34m\u001b[0m\u001b[0;34m\u001b[0m\u001b[0m\n\u001b[0;32m---> 21\u001b[0;31m     \u001b[0;32mwith\u001b[0m \u001b[0mopen\u001b[0m\u001b[0;34m(\u001b[0m\u001b[0mfile_path\u001b[0m\u001b[0;34m,\u001b[0m \u001b[0;34m\"wb\"\u001b[0m\u001b[0;34m)\u001b[0m \u001b[0;32mas\u001b[0m \u001b[0mf\u001b[0m\u001b[0;34m:\u001b[0m\u001b[0;34m\u001b[0m\u001b[0;34m\u001b[0m\u001b[0m\n\u001b[0m\u001b[1;32m     22\u001b[0m       \u001b[0mf\u001b[0m\u001b[0;34m.\u001b[0m\u001b[0mwrite\u001b[0m\u001b[0;34m(\u001b[0m\u001b[0mr\u001b[0m\u001b[0;34m.\u001b[0m\u001b[0mcontent\u001b[0m\u001b[0;34m)\u001b[0m\u001b[0;34m\u001b[0m\u001b[0;34m\u001b[0m\u001b[0m\n\u001b[1;32m     23\u001b[0m \u001b[0;34m\u001b[0m\u001b[0m\n",
            "\u001b[0;31mKeyboardInterrupt\u001b[0m: "
          ]
        }
      ],
      "source": [
        "#すみぺのLINE BLOGの1ページ目から300ページ目までのすべての画像をgoogle drive内に保存するプログラムです\n",
        "#基本そのまま実行するだけでokです\n",
        "\n",
        "import requests\n",
        "from bs4 import BeautifulSoup\n",
        "\n",
        "#google driveを連携\n",
        "from google.colab import drive\n",
        "drive.mount('./gdrive')\n",
        "\n",
        "#画像の保存先ディレクトリの作成と指定\n",
        "import os\n",
        "google_drive_save_dir = \"./gdrive/My Drive/Uesaka Sumire/lineblogimages\"\n",
        "os.makedirs(google_drive_save_dir, exist_ok=True)\n",
        "\n",
        "\n",
        "def download_image(url, file_path):\n",
        "  r = requests.get(url, stream=True)\n",
        "\n",
        "  if r.status_code == 200:\n",
        "    with open(file_path, \"wb\") as f:\n",
        "      f.write(r.content)\n",
        "\n",
        "\n",
        "def get_image_urls(page_url):\n",
        "  img_urls = []\n",
        "\n",
        "  r = requests.get(page_url)\n",
        "  \n",
        "  soup = BeautifulSoup(r.text, features=\"html.parser\")\n",
        "\n",
        "  img_tags = soup.find_all(\"img\", attrs={\"border\":\"0\"})\n",
        "\n",
        "  for img_tag in img_tags:\n",
        "    url = img_tag.get(\"src\")\n",
        "\n",
        "    img_urls.append(url)\n",
        "\n",
        "  return img_urls\n",
        "\n",
        "\n",
        "def loop_download_image(page_index, img_urls):\n",
        "  for image_index, url in enumerate(img_urls,1):\n",
        "    file_name = \"{}_{}.jpg\".format(page_index, image_index)\n",
        "\n",
        "    image_path = os.path.join(google_drive_save_dir, file_name)\n",
        "    print(image_path)\n",
        "\n",
        "    download_image(url=url, file_path=image_path)\n",
        "\n",
        "#1ページ目の画像保存\n",
        "img_urls = get_image_urls(\"https://lineblog.me/uesaka_sumire/\")\n",
        "print(\"1\")\n",
        "for index, url in enumerate(img_urls,1):\n",
        "  file_name = \"1_{}.jpg\".format(index)\n",
        "  image_path = os.path.join(google_drive_save_dir, file_name)\n",
        "  print(image_path)\n",
        "\n",
        "  download_image(url=url, file_path=image_path)\n",
        "#2ページから300ページまでの画像保存\n",
        "for index, n_page in enumerate(range(2,301,1),1):\n",
        "  print(n_page)\n",
        "  page_url = \"https://lineblog.me/uesaka_sumire/?p={}\".format(n_page)\n",
        "\n",
        "  img_urls = get_image_urls(page_url)\n",
        "\n",
        "  loop_download_image(page_index=index+1, img_urls=img_urls)"
      ]
    },
    {
      "cell_type": "code",
      "source": [],
      "metadata": {
        "id": "u86uqIdg7yOO"
      },
      "execution_count": null,
      "outputs": []
    }
  ]
}