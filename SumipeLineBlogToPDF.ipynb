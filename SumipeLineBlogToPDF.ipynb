{
  "nbformat": 4,
  "nbformat_minor": 0,
  "metadata": {
    "colab": {
      "provenance": [],
      "authorship_tag": "ABX9TyO7U5VBGhL2lYrfA7gDiMB7",
      "include_colab_link": true
    },
    "kernelspec": {
      "name": "python3",
      "display_name": "Python 3"
    },
    "language_info": {
      "name": "python"
    }
  },
  "cells": [
    {
      "cell_type": "markdown",
      "metadata": {
        "id": "view-in-github",
        "colab_type": "text"
      },
      "source": [
        "<a href=\"https://colab.research.google.com/github/kumanomi871/sumipe/blob/main/SumipeLineBlogToPDF.ipynb\" target=\"_parent\"><img src=\"https://colab.research.google.com/assets/colab-badge.svg\" alt=\"Open In Colab\"/></a>"
      ]
    },
    {
      "cell_type": "markdown",
      "source": [
        "# 上坂すみれ公式LINEブログをPDF化し、保存するプログラム\n",
        "上阪すみれオフィシャルブログ(https://lineblog.me/uesaka_sumire/) の1ページから300ページまでPDF化し、Google Driveに保存します\n",
        "\n",
        "\n",
        "#### 実行手順\n",
        "1.   最初のセルのシェルスクリプトを実行してください \n",
        "(スクリプトの内容は以下をご覧ください https://teratail.com/questions/9wfzcz4dxd22m1)\n",
        "2.   2番目のセルを実行すると保存が開始されます　\n",
        "\n",
        "\n",
        "\n",
        "\n",
        "\n"
      ],
      "metadata": {
        "id": "tSwq3-AkOfx3"
      }
    },
    {
      "cell_type": "code",
      "execution_count": null,
      "metadata": {
        "id": "we6s8rJ1KTR9"
      },
      "outputs": [],
      "source": [
        "%%shell\n",
        "# Ubuntu no longer distributes chromium-browser outside of snap\n",
        "#\n",
        "# Proposed solution: https://askubuntu.com/questions/1204571/how-to-install-chromium-without-snap\n",
        "\n",
        "# Add debian buster\n",
        "cat > /etc/apt/sources.list.d/debian.list <<'EOF'\n",
        "deb [arch=amd64 signed-by=/usr/share/keyrings/debian-buster.gpg] http://deb.debian.org/debian buster main\n",
        "deb [arch=amd64 signed-by=/usr/share/keyrings/debian-buster-updates.gpg] http://deb.debian.org/debian buster-updates main\n",
        "deb [arch=amd64 signed-by=/usr/share/keyrings/debian-security-buster.gpg] http://deb.debian.org/debian-security buster/updates main\n",
        "EOF\n",
        "\n",
        "# Add keys\n",
        "apt-key adv --keyserver keyserver.ubuntu.com --recv-keys DCC9EFBF77E11517\n",
        "apt-key adv --keyserver keyserver.ubuntu.com --recv-keys 648ACFD622F3D138\n",
        "apt-key adv --keyserver keyserver.ubuntu.com --recv-keys 112695A0E562B32A\n",
        "\n",
        "apt-key export 77E11517 | gpg --dearmour -o /usr/share/keyrings/debian-buster.gpg\n",
        "apt-key export 22F3D138 | gpg --dearmour -o /usr/share/keyrings/debian-buster-updates.gpg\n",
        "apt-key export E562B32A | gpg --dearmour -o /usr/share/keyrings/debian-security-buster.gpg\n",
        "\n",
        "# Prefer debian repo for chromium* packages only\n",
        "# Note the double-blank lines between entries\n",
        "cat > /etc/apt/preferences.d/chromium.pref << 'EOF'\n",
        "Package: *\n",
        "Pin: release a=eoan\n",
        "Pin-Priority: 500\n",
        "\n",
        "\n",
        "Package: *\n",
        "Pin: origin \"deb.debian.org\"\n",
        "Pin-Priority: 300\n",
        "\n",
        "\n",
        "Package: chromium*\n",
        "Pin: origin \"deb.debian.org\"\n",
        "Pin-Priority: 700\n",
        "EOF\n",
        "\n",
        "apt-get update\n",
        "apt-get install chromium chromium-driver fonts-noto"
      ]
    },
    {
      "cell_type": "code",
      "source": [
        "!pip install selenium\n",
        "!pip install webdriver_manager\n",
        "\n",
        "\n",
        "import pandas as pd\n",
        "from selenium import webdriver\n",
        "from selenium.webdriver.support.ui import WebDriverWait\n",
        "from selenium.webdriver.chrome.service import Service as ChromeService\n",
        "from webdriver_manager.chrome import ChromeDriverManager\n",
        "from selenium.webdriver.chrome.options import Options\n",
        "import time\n",
        "import os\n",
        "import base64\n",
        "\n",
        "\n",
        "def save_to_pdf(driver, file_path):\n",
        "    parameters = {\n",
        "        \"printBackground\": True, # 背景画像を印刷\n",
        "        \"paperWidth\": 8.27, # A4用紙の横 210mmをインチで指定\n",
        "        \"paperHeight\": 11.69, # A4用紙の縦 297mmをインチで指定\n",
        "        # \"displayHeaderFooter\": True, # 印刷時のヘッダー、フッターを表示\n",
        "    }\n",
        "    # Chrome Devtools Protocolコマンドを実行し、取得できるBase64形式のPDFデータをデコードしてファイルに保存\n",
        "    pdf_base64 = driver.execute_cdp_cmd(\"Page.printToPDF\", parameters)\n",
        "    # print(pdf_base64)\n",
        "    pdf = base64.b64decode(pdf_base64[\"data\"])\n",
        "    with open(file_path, 'bw') as f:\n",
        "        f.write(pdf)\n",
        "\n",
        "\n",
        "# google driveを連携\n",
        "from google.colab import drive\n",
        "drive.mount('./gdrive')\n",
        "\n",
        "# 画像の保存先ディレクトリの作成と指定\n",
        "import os\n",
        "google_drive_save_dir = \"./gdrive/My Drive/Uesaka Sumire/lineblogPDFs\"\n",
        "os.makedirs(google_drive_save_dir, exist_ok=True)\n",
        "\n",
        "# カレントディレクトリにすみぺLINEBLOGのURLリスト作成\n",
        "root_url = 'https://lineblog.me/uesaka_sumire/'\n",
        "urls = [root_url]\n",
        "\n",
        "for i, n_page in enumerate(range(2,301,1),1):\n",
        "    page_url = root_url + \"?p={}\".format(n_page)\n",
        "    urls.append(page_url)\n",
        "    \n",
        "df = pd.DataFrame(urls)\n",
        "df.to_csv('urls.txt', index=False, header=False)\n",
        "\n",
        "# URLリスト取得\n",
        "urls = []\n",
        "with open('urls.txt', mode='rt', encoding='utf-8') as f:\n",
        "    urls = f.readlines()\n",
        "\n",
        "# Chrome options\n",
        "options = webdriver.ChromeOptions()\n",
        "options.add_argument('--headless')\n",
        "options.add_argument('--no-sandbox')\n",
        "options.add_argument('--disable-gpu')\n",
        "\n",
        "# PDF保存実行\n",
        "driver = webdriver.Chrome(service=ChromeService(\"/usr/bin/chromedriver\"),options=options)\n",
        "print('\\nPDFダウンロード開始') \n",
        "for i, url in enumerate(urls,1):\n",
        "  driver.get(url)\n",
        "  file_name = \"{}.pdf\".format(i)\n",
        "  pdf_path = os.path.join(google_drive_save_dir, file_name)\n",
        "  print(pdf_path)\n",
        "  save_to_pdf(driver, pdf_path)\n",
        "\n",
        "driver.close()\n",
        "driver.quit()"
      ],
      "metadata": {
        "id": "v_pv96_BLjbc"
      },
      "execution_count": null,
      "outputs": []
    }
  ]
}